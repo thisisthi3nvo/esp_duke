{
  "nbformat": 4,
  "nbformat_minor": 0,
  "metadata": {
    "colab": {
      "provenance": []
    },
    "kernelspec": {
      "name": "python3",
      "display_name": "Python 3"
    },
    "language_info": {
      "name": "python"
    }
  },
  "cells": [
    {
      "cell_type": "code",
      "source": [
        "# Mounting Google Drive to Colab\n",
        "from google.colab import drive\n",
        "drive.mount('/content/drive')"
      ],
      "metadata": {
        "colab": {
          "base_uri": "https://localhost:8080/"
        },
        "id": "Y3OC9n0ZHTNA",
        "outputId": "858e338f-db47-48af-cbec-d22b0f6f143c"
      },
      "execution_count": 2,
      "outputs": [
        {
          "output_type": "stream",
          "name": "stdout",
          "text": [
            "Mounted at /content/drive\n"
          ]
        }
      ]
    },
    {
      "cell_type": "code",
      "execution_count": 7,
      "metadata": {
        "colab": {
          "base_uri": "https://localhost:8080/"
        },
        "id": "qGRCCaxTHJfG",
        "outputId": "83836915-129a-4688-cfb1-3ecefc25be0d"
      },
      "outputs": [
        {
          "output_type": "stream",
          "name": "stdout",
          "text": [
            "Root Mean Squared Error: 29.8403372898038\n",
            "R-squared Score: 0.01866011712957949\n",
            "\n",
            "Top 5 Most Important Features:\n",
            "                      feature  importance\n",
            "11            Position_Intern   14.755590\n",
            "12  Position_Junior Developer   11.415424\n",
            "13           Position_Manager   10.118562\n",
            "15         Position_Team Lead   10.072182\n",
            "8        Department_Marketing    5.804001\n"
          ]
        }
      ],
      "source": [
        "import pandas as pd\n",
        "from sklearn.model_selection import train_test_split\n",
        "from sklearn.linear_model import LinearRegression\n",
        "from sklearn.metrics import mean_squared_error, r2_score\n",
        "import numpy as np\n",
        "\n",
        "\n",
        "df = pd.read_csv('/content/drive/MyDrive/530/hr_dashboard_data.csv')\n",
        "\n",
        "# Select features for prediction\n",
        "features = ['Age', 'Projects Completed', 'Productivity (%)', 'Feedback Score', 'Salary', 'Department', 'Position']  # Include 'Department' and 'Position'\n",
        "X = df[features]\n",
        "y = df['Satisfaction Rate (%)']\n",
        "\n",
        "# Encode categorical variables\n",
        "X = pd.get_dummies(X, columns=['Department', 'Position'])\n",
        "\n",
        "# Split the data into training and testing sets\n",
        "X_train, X_test, y_train, y_test = train_test_split(X, y, test_size=0.2, random_state=42)\n",
        "\n",
        "# Create and train the model\n",
        "model = LinearRegression()\n",
        "model.fit(X_train, y_train)\n",
        "\n",
        "# Make predictions on the test set\n",
        "y_pred = model.predict(X_test)\n",
        "\n",
        "# Evaluate the model\n",
        "mse = mean_squared_error(y_test, y_pred)\n",
        "rmse = np.sqrt(mse)\n",
        "r2 = r2_score(y_test, y_pred)\n",
        "\n",
        "print(f\"Root Mean Squared Error: {rmse}\")\n",
        "print(f\"R-squared Score: {r2}\")\n",
        "\n",
        "# Feature importance\n",
        "feature_importance = pd.DataFrame({'feature': X.columns, 'importance': abs(model.coef_)})\n",
        "feature_importance = feature_importance.sort_values('importance', ascending=False)\n",
        "print(\"\\nTop 5 Most Important Features:\")\n",
        "print(feature_importance.head())\n",
        "\n",
        "# Function to predict satisfaction rate for a new employee\n",
        "def predict_satisfaction(employee_data):\n",
        "    employee_df = pd.DataFrame([employee_data])\n",
        "    employee_df = pd.get_dummies(employee_df, columns=['Department', 'Position'])\n",
        "\n",
        "    for col in X.columns:\n",
        "        if col not in employee_df.columns:\n",
        "            employee_df[col] = 0\n",
        "    employee_df = employee_df[X.columns]\n",
        "    return model.predict(employee_df)[0]\n"
      ]
    },
    {
      "cell_type": "code",
      "source": [
        "# New employee example\n",
        "new_employee = {\n",
        "    'Age': 30,\n",
        "    'Projects Completed': 10,\n",
        "    'Productivity (%)': 75,\n",
        "    'Feedback Score': 4.0,\n",
        "    'Salary': 70000,\n",
        "    'Department': 'IT',\n",
        "    'Position': 'Analyst'\n",
        "}\n",
        "\n",
        "predicted_satisfaction = predict_satisfaction(new_employee)\n",
        "print(f\"\\nPredicted Satisfaction Rate for the new employee: {predicted_satisfaction:.2f}%\")"
      ],
      "metadata": {
        "colab": {
          "base_uri": "https://localhost:8080/"
        },
        "id": "aYys40yivsOH",
        "outputId": "1ca07ce9-3c5f-425b-d8e4-47d416420167"
      },
      "execution_count": 4,
      "outputs": [
        {
          "output_type": "stream",
          "name": "stdout",
          "text": [
            "\n",
            "Predicted Satisfaction Rate for the new employee: 48.14%\n"
          ]
        }
      ]
    },
    {
      "cell_type": "code",
      "source": [
        "# New employee example\n",
        "new_employee = {\n",
        "    'Age': 30,\n",
        "    'Projects Completed': 10,\n",
        "    'Productivity (%)': 75,\n",
        "    'Feedback Score': 4.0,\n",
        "    'Salary': 100000,\n",
        "    'Department': 'IT',\n",
        "    'Position': 'Analyst'\n",
        "}\n",
        "\n",
        "predicted_satisfaction = predict_satisfaction(new_employee)\n",
        "print(f\"\\nPredicted Satisfaction Rate for the new employee: {predicted_satisfaction:.2f}%\")"
      ],
      "metadata": {
        "colab": {
          "base_uri": "https://localhost:8080/"
        },
        "id": "0TrPceH4wCyc",
        "outputId": "b2de8249-c0e6-469b-a3a1-e57d55be8d8d"
      },
      "execution_count": 5,
      "outputs": [
        {
          "output_type": "stream",
          "name": "stdout",
          "text": [
            "\n",
            "Predicted Satisfaction Rate for the new employee: 50.97%\n"
          ]
        }
      ]
    },
    {
      "cell_type": "code",
      "source": [
        "# New employee example\n",
        "new_employee = {\n",
        "    'Age': 30,\n",
        "    'Projects Completed': 10,\n",
        "    'Productivity (%)': 75,\n",
        "    'Feedback Score': 4.0,\n",
        "    'Salary': 70000,\n",
        "    'Department': 'IT',\n",
        "    'Position': 'Intern'\n",
        "}\n",
        "\n",
        "predicted_satisfaction = predict_satisfaction(new_employee)\n",
        "print(f\"\\nPredicted Satisfaction Rate for the new employee: {predicted_satisfaction:.2f}%\")"
      ],
      "metadata": {
        "colab": {
          "base_uri": "https://localhost:8080/"
        },
        "id": "ySn3ui44wI02",
        "outputId": "4f667d32-7aa3-4062-b6ff-1e181ea5ea78"
      },
      "execution_count": 6,
      "outputs": [
        {
          "output_type": "stream",
          "name": "stdout",
          "text": [
            "\n",
            "Predicted Satisfaction Rate for the new employee: 67.00%\n"
          ]
        }
      ]
    }
  ]
}